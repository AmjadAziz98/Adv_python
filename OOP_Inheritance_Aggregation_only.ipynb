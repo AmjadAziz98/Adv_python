{
  "nbformat": 4,
  "nbformat_minor": 0,
  "metadata": {
    "colab": {
      "provenance": [],
      "toc_visible": true
    },
    "kernelspec": {
      "name": "python3",
      "display_name": "Python 3"
    },
    "language_info": {
      "name": "python"
    }
  },
  "cells": [
    {
      "cell_type": "markdown",
      "source": [
        "### Class Relationships\n",
        "\n",
        "- Aggregation\n",
        "- Inheritance"
      ],
      "metadata": {
        "id": "yqLLqLyj4r0z"
      }
    },
    {
      "cell_type": "markdown",
      "source": [
        "### Aggregation(Has-A relationship)"
      ],
      "metadata": {
        "id": "f69fS6U45Hqr"
      }
    },
    {
      "cell_type": "code",
      "source": [
        "# example\n",
        "class Customer:\n",
        "\n",
        "  def __init__(self,name,gender,address):\n",
        "    self.name = name\n",
        "    self.gender = gender\n",
        "    self.address = address\n",
        "\n",
        "  def print_address(self):\n",
        "    print(self.address._Address__city,self.address.PostCode,self.address.state)\n",
        "\n",
        "  def edit_profile(self,new_name,new_city,new_PostCode,new_state):\n",
        "    self.name = new_name\n",
        "    self.address.edit_address(new_city,new_PostCode,new_state)\n",
        "\n",
        "class Address:\n",
        "\n",
        "  def __init__(self,city,PostCode,state):\n",
        "      self.__city = city\n",
        "      self.PostCode = PostCode\n",
        "      self.state = state\n",
        "\n",
        "  def get_city(self):\n",
        "    return self.__city\n",
        "\n",
        "  def edit_address(self,new_city,new_PostCode,new_state):\n",
        "    self.__city = new_city\n",
        "    self.PostCode = new_PostCode\n",
        "    self.state = new_state\n",
        "\n",
        "add1 = Address('Karachi',122011,'Sindh')\n",
        "cust = Customer('Amjad','male',add1)\n",
        "\n",
        "cust.print_address()\n",
        "\n",
        "cust.edit_profile('Qari','Quetta',111111,'Balochistan')\n",
        "cust.print_address()\n",
        "# method example\n",
        "# what about private attribute"
      ],
      "metadata": {
        "id": "5kx2nO_m5GdR"
      },
      "execution_count": null,
      "outputs": []
    },
    {
      "cell_type": "markdown",
      "source": [
        "##### Aggregation class diagram"
      ],
      "metadata": {
        "id": "iwHzHwcQ5L94"
      }
    },
    {
      "cell_type": "code",
      "source": [],
      "metadata": {
        "id": "N8leEVkv5PQ1"
      },
      "execution_count": null,
      "outputs": []
    }
  ]
}
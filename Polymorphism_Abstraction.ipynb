{
  "nbformat": 4,
  "nbformat_minor": 0,
  "metadata": {
    "colab": {
      "provenance": [],
      "toc_visible": true
    },
    "kernelspec": {
      "name": "python3",
      "display_name": "Python 3"
    },
    "language_info": {
      "name": "python"
    }
  },
  "cells": [
    {
      "cell_type": "markdown",
      "source": [
        "### Polymorphism\n",
        "\n",
        "- Method Overriding\n",
        "- Method Overloading\n",
        "- Operator Overloading"
      ],
      "metadata": {
        "id": "TvZX-Zw9FtKB"
      }
    },
    {
      "cell_type": "code",
      "source": [
        "class Shape:\n",
        "\n",
        "  def area(self, length, width):\n",
        "    return length*width\n",
        "\n",
        "  def area(self, radius):\n",
        "    return 3.14*radius*radius\n",
        "\n",
        "s = Shape()\n",
        "print(s.area(4))"
      ],
      "metadata": {
        "id": "ylrkK950wIlf"
      },
      "execution_count": null,
      "outputs": []
    },
    {
      "cell_type": "code",
      "source": [
        "class Shape:\n",
        "\n",
        "  def area(self,a,b=0):\n",
        "    if b == 0:\n",
        "      return 3.14*a*a\n",
        "    else:\n",
        "      return a*b\n",
        "\n",
        "s = Shape()\n",
        "\n",
        "print(s.area(2))\n",
        "print(s.area(3,4))"
      ],
      "metadata": {
        "id": "wuVzSLONF0ha",
        "colab": {
          "base_uri": "https://localhost:8080/"
        },
        "outputId": "c0ef3d86-9a4b-4d2f-f6b4-2ca8b7d42764"
      },
      "execution_count": null,
      "outputs": [
        {
          "output_type": "stream",
          "name": "stdout",
          "text": [
            "12.56\n",
            "12\n"
          ]
        }
      ]
    },
    {
      "cell_type": "code",
      "source": [
        "'hello' + 'world'"
      ],
      "metadata": {
        "id": "3-SJbwpMXE4J",
        "colab": {
          "base_uri": "https://localhost:8080/",
          "height": 36
        },
        "outputId": "1fb14d61-32b2-4267-e997-edbd98de1c22"
      },
      "execution_count": null,
      "outputs": [
        {
          "output_type": "execute_result",
          "data": {
            "text/plain": [
              "'helloworld'"
            ],
            "application/vnd.google.colaboratory.intrinsic+json": {
              "type": "string"
            }
          },
          "metadata": {},
          "execution_count": 61
        }
      ]
    },
    {
      "cell_type": "code",
      "source": [
        "4 + 5"
      ],
      "metadata": {
        "id": "XIhrt6ffXFOq",
        "colab": {
          "base_uri": "https://localhost:8080/"
        },
        "outputId": "5936ff62-3649-470b-8080-27e0932d795c"
      },
      "execution_count": null,
      "outputs": [
        {
          "output_type": "execute_result",
          "data": {
            "text/plain": [
              "9"
            ]
          },
          "metadata": {},
          "execution_count": 62
        }
      ]
    },
    {
      "cell_type": "code",
      "source": [
        "[1,2,3] + [4,5]"
      ],
      "metadata": {
        "colab": {
          "base_uri": "https://localhost:8080/"
        },
        "id": "ykLFszsHfrKi",
        "outputId": "b6dce7af-c9d9-4414-bd3e-dbdacc9df9e1"
      },
      "execution_count": null,
      "outputs": [
        {
          "output_type": "execute_result",
          "data": {
            "text/plain": [
              "[1, 2, 3, 4, 5]"
            ]
          },
          "metadata": {},
          "execution_count": 63
        }
      ]
    },
    {
      "cell_type": "markdown",
      "source": [
        "### Abstraction"
      ],
      "metadata": {
        "id": "FHZlflrSF1Df"
      }
    },
    {
      "cell_type": "code",
      "source": [
        "from abc import ABC,abstractmethod\n",
        "class BankApp(ABC):\n",
        "\n",
        "  def database(self):\n",
        "    print('connected to database')\n",
        "\n",
        "  @abstractmethod\n",
        "  def security(self):\n",
        "    pass\n",
        "\n",
        "  @abstractmethod\n",
        "  def display(self):\n",
        "    pass\n"
      ],
      "metadata": {
        "id": "EFrfU_45F2wx"
      },
      "execution_count": null,
      "outputs": []
    },
    {
      "cell_type": "code",
      "source": [
        "class MobileApp(BankApp):\n",
        "\n",
        "  def mobile_login(self):\n",
        "    print('login into mobile')\n",
        "\n",
        "  def security(self):\n",
        "    print('mobile security')\n",
        "\n",
        "  def display(self):\n",
        "    print('display')"
      ],
      "metadata": {
        "id": "_KULGDqYxtwk"
      },
      "execution_count": null,
      "outputs": []
    },
    {
      "cell_type": "code",
      "source": [
        "mob = MobileApp()"
      ],
      "metadata": {
        "id": "WlGxjLHz6J94"
      },
      "execution_count": null,
      "outputs": []
    },
    {
      "cell_type": "code",
      "source": [
        "mob.security()"
      ],
      "metadata": {
        "colab": {
          "base_uri": "https://localhost:8080/"
        },
        "id": "e-ygxfhV6MR9",
        "outputId": "93969604-41c2-4966-d322-ffaadcd85e4f"
      },
      "execution_count": null,
      "outputs": [
        {
          "output_type": "stream",
          "name": "stdout",
          "text": [
            "mobile security\n"
          ]
        }
      ]
    },
    {
      "cell_type": "code",
      "source": [
        "obj = BankApp()"
      ],
      "metadata": {
        "colab": {
          "base_uri": "https://localhost:8080/",
          "height": 169
        },
        "id": "hvVMYalv6v3j",
        "outputId": "2809badf-e568-4a87-ddfb-1f64d944900d"
      },
      "execution_count": null,
      "outputs": [
        {
          "output_type": "error",
          "ename": "TypeError",
          "evalue": "ignored",
          "traceback": [
            "\u001b[0;31m---------------------------------------------------------------------------\u001b[0m",
            "\u001b[0;31mTypeError\u001b[0m                                 Traceback (most recent call last)",
            "\u001b[0;32m<ipython-input-24-0aa75fd04378>\u001b[0m in \u001b[0;36m<module>\u001b[0;34m\u001b[0m\n\u001b[0;32m----> 1\u001b[0;31m \u001b[0mobj\u001b[0m \u001b[0;34m=\u001b[0m \u001b[0mBankApp\u001b[0m\u001b[0;34m(\u001b[0m\u001b[0;34m)\u001b[0m\u001b[0;34m\u001b[0m\u001b[0;34m\u001b[0m\u001b[0m\n\u001b[0m",
            "\u001b[0;31mTypeError\u001b[0m: Can't instantiate abstract class BankApp with abstract methods display, security"
          ]
        }
      ]
    },
    {
      "cell_type": "code",
      "source": [],
      "metadata": {
        "id": "OvdixiRJ7kDn"
      },
      "execution_count": null,
      "outputs": []
    }
  ]
}
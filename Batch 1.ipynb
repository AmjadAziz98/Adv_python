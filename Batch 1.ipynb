{
 "cells": [
  {
   "cell_type": "code",
   "execution_count": 2,
   "id": "c318c9e4-da90-40a4-bc13-93a4fe8c2c8a",
   "metadata": {},
   "outputs": [
    {
     "name": "stdout",
     "output_type": "stream",
     "text": [
      "Hello World\n"
     ]
    }
   ],
   "source": [
    "print(\"Hello World\")"
   ]
  },
  {
   "cell_type": "code",
   "execution_count": 8,
   "id": "a8a805cf-70df-4b34-b1b0-e644837717f1",
   "metadata": {},
   "outputs": [
    {
     "name": "stdout",
     "output_type": "stream",
     "text": [
      "Welcome to this program Amjad Aziz\n"
     ]
    }
   ],
   "source": [
    "name = \"Amjad Aziz\"\n",
    "welcome = \"Welcome to this program\"\n",
    "\n",
    "print(welcome, name)"
   ]
  },
  {
   "cell_type": "code",
   "execution_count": 11,
   "id": "4b2a556a-bda1-4bcd-a152-74add5fdb61c",
   "metadata": {},
   "outputs": [
    {
     "name": "stdout",
     "output_type": "stream",
     "text": [
      "Hello,  Amjad Aziz Aziz Ahmed karachi Welcome to this program..\n"
     ]
    }
   ],
   "source": [
    "name = \"Amjad Aziz\"\n",
    "city = \"karachi\"\n",
    "father = \"Aziz Ahmed\"\n",
    "\n",
    "print(\"Hello, \", name, father, city, \"Welcome to this program..\")"
   ]
  },
  {
   "cell_type": "code",
   "execution_count": 1,
   "id": "f75694a0-ae35-4b6a-8fdc-a05e882b5508",
   "metadata": {},
   "outputs": [
    {
     "name": "stdout",
     "output_type": "stream",
     "text": [
      "Amjad Aziz Amjad Aziz Amjad Aziz\n"
     ]
    }
   ],
   "source": [
    "name = \"Amjad Aziz\"\n",
    "city = \"karachi\"\n",
    "father = \"Aziz Ahmed\"\n",
    "\n",
    "print(name, name, name)"
   ]
  },
  {
   "cell_type": "code",
   "execution_count": 5,
   "id": "6c0a3994-c807-4cf8-8c76-fb4129d62266",
   "metadata": {},
   "outputs": [
    {
     "name": "stdin",
     "output_type": "stream",
     "text": [
      "Give me your name:  Ali\n",
      "Give me your City:  Islamabad\n",
      "Give me your father name:  Amaan\n"
     ]
    },
    {
     "name": "stdout",
     "output_type": "stream",
     "text": [
      "Hello Mr. Ali your father name is Amaan your city is Islamabad Welcome to this program..\n"
     ]
    }
   ],
   "source": [
    "name = input(\"Give me your name: \")\n",
    "city = input(\"Give me your City: \")\n",
    "father = input(\"Give me your father name: \")\n",
    "\n",
    "print(\"Hello Mr.\", name, \"your father name is\", father, \"your city is\",city, \"Welcome to this program..\")"
   ]
  },
  {
   "cell_type": "code",
   "execution_count": 25,
   "id": "9d81441d-26ad-4def-b208-50470d275e7b",
   "metadata": {},
   "outputs": [
    {
     "name": "stdin",
     "output_type": "stream",
     "text": [
      "Give me your name:  ALI\n",
      "Give me your City:  Lhr\n",
      "Give me your father name:  Sheraz\n"
     ]
    },
    {
     "name": "stdout",
     "output_type": "stream",
     "text": [
      "Hello Mr. ALI,\n",
      " s/o Sheraz and you are from Lhr\n"
     ]
    }
   ],
   "source": [
    "name = input(\"Give me your name: \")\n",
    "city = input(\"Give me your City: \")\n",
    "father = input(\"Give me your father name: \")\n",
    "\n",
    "print(f\"Hello Mr. {name},\\n s/o {father} and you are from {city}\")"
   ]
  },
  {
   "cell_type": "code",
   "execution_count": 29,
   "id": "98aa60fd-4961-41c1-b3ec-e6e958c3df00",
   "metadata": {},
   "outputs": [
    {
     "name": "stdout",
     "output_type": "stream",
     "text": [
      "4444\n"
     ]
    }
   ],
   "source": [
    "# x = \"45\"\n",
    "# y = \"8\"\n",
    "\n",
    "# print(x + y)\n",
    "# # print(\"Karachi\" + \" \" + \"Karachi\")\n",
    "\n",
    "# print(\"4\" * 4)"
   ]
  },
  {
   "cell_type": "code",
   "execution_count": 32,
   "id": "ea4260a9-caf2-41a5-8e7d-6337725e79fc",
   "metadata": {},
   "outputs": [
    {
     "name": "stdout",
     "output_type": "stream",
     "text": [
      "Pakistan\n",
      "Pakistan\n",
      "Pakistan\n",
      "Pakistan\n",
      "Pakistan\n",
      "Pakistan\n",
      "Pakistan\n",
      "Pakistan\n",
      "Pakistan\n",
      "Pakistan\n",
      "Pakistan\n",
      "Pakistan\n",
      "Pakistan\n",
      "Pakistan\n",
      "Pakistan\n",
      "Pakistan\n",
      "Pakistan\n",
      "Pakistan\n",
      "Pakistan\n",
      "Pakistan\n",
      "Pakistan\n",
      "Pakistan\n",
      "Pakistan\n",
      "Pakistan\n",
      "Pakistan\n",
      "Pakistan\n",
      "Pakistan\n",
      "Pakistan\n",
      "Pakistan\n",
      "Pakistan\n",
      "Pakistan\n",
      "Pakistan\n",
      "Pakistan\n",
      "Pakistan\n",
      "Pakistan\n",
      "Pakistan\n",
      "Pakistan\n",
      "Pakistan\n",
      "Pakistan\n",
      "Pakistan\n",
      "Pakistan\n",
      "Pakistan\n",
      "Pakistan\n",
      "Pakistan\n",
      "Pakistan\n",
      "Pakistan\n",
      "Pakistan\n",
      "Pakistan\n",
      "Pakistan\n",
      "Pakistan\n",
      "Pakistan\n",
      "Pakistan\n",
      "Pakistan\n",
      "Pakistan\n",
      "Pakistan\n",
      "Pakistan\n",
      "Pakistan\n",
      "Pakistan\n",
      "Pakistan\n",
      "Pakistan\n",
      "Pakistan\n",
      "Pakistan\n",
      "Pakistan\n",
      "Pakistan\n",
      "Pakistan\n",
      "Pakistan\n",
      "Pakistan\n",
      "Pakistan\n",
      "Pakistan\n",
      "Pakistan\n",
      "Pakistan\n",
      "Pakistan\n",
      "Pakistan\n",
      "Pakistan\n",
      "Pakistan\n",
      "Pakistan\n",
      "Pakistan\n",
      "Pakistan\n",
      "Pakistan\n",
      "Pakistan\n",
      "Pakistan\n",
      "Pakistan\n",
      "Pakistan\n",
      "Pakistan\n",
      "Pakistan\n",
      "Pakistan\n",
      "Pakistan\n",
      "Pakistan\n",
      "Pakistan\n",
      "Pakistan\n",
      "Pakistan\n",
      "Pakistan\n",
      "Pakistan\n",
      "Pakistan\n",
      "Pakistan\n",
      "Pakistan\n",
      "Pakistan\n",
      "Pakistan\n",
      "Pakistan\n",
      "Pakistan\n",
      "\n"
     ]
    }
   ],
   "source": [
    "print(\"Pakistan\\n\" * 100)"
   ]
  },
  {
   "cell_type": "code",
   "execution_count": 2,
   "id": "05cd94e6-6c62-4382-a757-debd1750b58e",
   "metadata": {},
   "outputs": [
    {
     "name": "stdout",
     "output_type": "stream",
     "text": [
      "<class 'str'>\n"
     ]
    }
   ],
   "source": [
    "a = \"Karachi\"\n",
    "b = 'Lahore'\n",
    "\n",
    "print(type(b))"
   ]
  },
  {
   "cell_type": "code",
   "execution_count": 5,
   "id": "6c475947-98fe-4485-8120-5926e2b36bcb",
   "metadata": {},
   "outputs": [
    {
     "name": "stdout",
     "output_type": "stream",
     "text": [
      "Quaid-e-Azam said, \"Never Give up.\"\n",
      "This is Arshad's pen.\n",
      "I am Pakistani.\n"
     ]
    }
   ],
   "source": [
    "x = 'Quaid-e-Azam said, \"Never Give up.\"'\n",
    "y = \"This is Arshad's pen.\"\n",
    "a = str(4)\n",
    "z = '''Quaid-e-Azam said, \"Never Give up.\"\n",
    "This is Arshad's pen.\n",
    "I am Pakistani.'''\n",
    "\n",
    "print(x)"
   ]
  },
  {
   "cell_type": "code",
   "execution_count": 31,
   "id": "a47ce787-568c-44ad-a815-163bfb9e042b",
   "metadata": {},
   "outputs": [
    {
     "name": "stdout",
     "output_type": "stream",
     "text": [
      "-diauQ\n"
     ]
    }
   ],
   "source": [
    "# String is an iterable data structure\n",
    "z = '''Quaid-e-Azam said, \"Never Give up.\"\n",
    "This is Arshad's pen.\n",
    "I am Pakistani.'''\n",
    "# print(z[])\n",
    "print(z[5::-1])"
   ]
  },
  {
   "cell_type": "code",
   "execution_count": 33,
   "id": "9ecea6b0-b50a-4505-b514-5a2c837fdc75",
   "metadata": {},
   "outputs": [
    {
     "name": "stdin",
     "output_type": "stream",
     "text": [
      "Give me your name and I will give you the reverse of it:  ANAS\n"
     ]
    },
    {
     "name": "stdout",
     "output_type": "stream",
     "text": [
      "The reverse of ANAS is SANA\n"
     ]
    }
   ],
   "source": [
    "name = input(\"Give me your name and I will give you the reverse of it: \")\n",
    "\n",
    "print(f\"The reverse of {name} is {name[::-1]}\")"
   ]
  },
  {
   "cell_type": "code",
   "execution_count": 36,
   "id": "ec464ef7-84a5-4f43-9202-ad610ad3c86f",
   "metadata": {},
   "outputs": [
    {
     "name": "stdout",
     "output_type": "stream",
     "text": [
      "The word LIGHT is palindrome of THGIL\n"
     ]
    }
   ],
   "source": [
    "pal = \"LIGHT\"\n",
    "st = pal[::-1]\n",
    "\n",
    "print(f\"The word {pal} is palindrome of {st}\")"
   ]
  },
  {
   "cell_type": "code",
   "execution_count": 4,
   "id": "e05bbad9-47db-4af3-af43-3addcdfdd996",
   "metadata": {},
   "outputs": [
    {
     "name": "stdout",
     "output_type": "stream",
     "text": [
      "<class 'float'>\n"
     ]
    }
   ],
   "source": [
    "a = \"17\"\n",
    "b = 12\n",
    "c = 2.3\n",
    "\n",
    "print(type(c))"
   ]
  },
  {
   "cell_type": "code",
   "execution_count": 13,
   "id": "973a3c39-bfa6-4a00-8749-45379776e07e",
   "metadata": {},
   "outputs": [
    {
     "name": "stdout",
     "output_type": "stream",
     "text": [
      "<class 'float'>\n"
     ]
    }
   ],
   "source": [
    "a = 4.1\n",
    "b = 2.0\n",
    "\n",
    "print(type(b))"
   ]
  },
  {
   "cell_type": "code",
   "execution_count": 17,
   "id": "180a03a4-2976-4e6c-87c9-3ae476cc686a",
   "metadata": {},
   "outputs": [
    {
     "name": "stdin",
     "output_type": "stream",
     "text": [
      "Give me 1st number:  5\n",
      "Give me 2nd number:  3\n"
     ]
    },
    {
     "name": "stdout",
     "output_type": "stream",
     "text": [
      "<class 'str'> <class 'str'>\n"
     ]
    }
   ],
   "source": [
    "num1 = input(\"Give me 1st number: \")\n",
    "num2 = input(\"Give me 2nd number: \")\n",
    "\n",
    "print(f\"The Sum of {num1} and {num2} is {num1 + num2}\")\n",
    "print(f\"The Subtraction of {num1} and {num2} is {num1 - num2}\")\n",
    "print(f\"The Multiplication of {num1} and {num2} is {num1 * num2}\")\n",
    "print(f\"The Division of {num1} and {num2} is {num1 / num2}\")"
   ]
  },
  {
   "cell_type": "code",
   "execution_count": 27,
   "id": "5dd03f4c-cdf3-45ad-94d2-71139995c122",
   "metadata": {},
   "outputs": [
    {
     "name": "stdout",
     "output_type": "stream",
     "text": [
      "4\n",
      "<class 'str'>\n"
     ]
    }
   ],
   "source": [
    "a = float(\"2.8\")\n",
    "b = str(45)\n",
    "c = str(1.2)\n",
    "x = int(a) + 2\n",
    "\n",
    "print(x)\n",
    "print(type(c))"
   ]
  },
  {
   "cell_type": "code",
   "execution_count": 29,
   "id": "7954fc9c-3601-4455-9810-8079216aaa9e",
   "metadata": {},
   "outputs": [
    {
     "name": "stdout",
     "output_type": "stream",
     "text": [
      "5.0\n"
     ]
    }
   ],
   "source": [
    "# a = 2.8\n",
    "# b = int(a)\n",
    "a = 5\n",
    "b = float(a)\n",
    "print(b)"
   ]
  },
  {
   "cell_type": "code",
   "execution_count": 35,
   "id": "fab70757-2cf7-4a60-87ca-421275b09d5d",
   "metadata": {},
   "outputs": [
    {
     "name": "stdout",
     "output_type": "stream",
     "text": [
      "2.0\n"
     ]
    }
   ],
   "source": [
    "a = (float(\"2\"))\n",
    "print(a)"
   ]
  },
  {
   "cell_type": "code",
   "execution_count": 38,
   "id": "92f184f8-adc3-4e22-af1b-a3bb602b3392",
   "metadata": {},
   "outputs": [
    {
     "name": "stdout",
     "output_type": "stream",
     "text": [
      "9.2\n"
     ]
    }
   ],
   "source": [
    "a = \"11\"\n",
    "b = int(a)\n",
    "c = int(2.6)\n",
    "d = b\n",
    "b = 7.2\n",
    "\n",
    "print(b + d)"
   ]
  },
  {
   "cell_type": "code",
   "execution_count": 39,
   "id": "ace37963-f036-41ea-87b3-6ee9a671b3c2",
   "metadata": {},
   "outputs": [
    {
     "name": "stdin",
     "output_type": "stream",
     "text": [
      "Give me 1st number:  5\n",
      "Give me 2nd number:  2\n"
     ]
    },
    {
     "name": "stdout",
     "output_type": "stream",
     "text": [
      "The Sum of 5 and 2 is 7\n",
      "The Subtraction of 5 and 2 is 3\n",
      "The Multiplication of 5 and 2 is 10\n",
      "The Division of 5 and 2 is 2.5\n"
     ]
    }
   ],
   "source": [
    "num1 = int(input(\"Give me 1st number: \"))\n",
    "num2 = int(input(\"Give me 2nd number: \"))\n",
    "\n",
    "print(f\"The Sum of {num1} and {num2} is {num1 + num2}\")\n",
    "print(f\"The Subtraction of {num1} and {num2} is {num1 - num2}\")\n",
    "print(f\"The Multiplication of {num1} and {num2} is {num1 * num2}\")\n",
    "print(f\"The Division of {num1} and {num2} is {num1 / num2}\")"
   ]
  },
  {
   "cell_type": "code",
   "execution_count": 40,
   "id": "3f1951a9-36f4-4bd9-b91b-7d78bba21b83",
   "metadata": {},
   "outputs": [
    {
     "name": "stdin",
     "output_type": "stream",
     "text": [
      "What's the width 100\n",
      "What's the length 20\n"
     ]
    },
    {
     "name": "stdout",
     "output_type": "stream",
     "text": [
      "The area is 2000\n"
     ]
    }
   ],
   "source": [
    "width = int(input(\"What's the width\"))\n",
    "length = int(input(\"What's the length\"))\n",
    "area = width * length\n",
    "\n",
    "print(f\"The area is {area}\")"
   ]
  },
  {
   "cell_type": "code",
   "execution_count": 45,
   "id": "e478c978-3a16-44d7-87b0-0ae5e4021f6b",
   "metadata": {},
   "outputs": [
    {
     "name": "stdin",
     "output_type": "stream",
     "text": [
      "What's your age:  20\n"
     ]
    },
    {
     "name": "stdout",
     "output_type": "stream",
     "text": [
      "You will be 100 years old in 2105\n"
     ]
    }
   ],
   "source": [
    "age = int(input(\"What's your age: \"))\n",
    "\n",
    "year = 2025 - age + 100\n",
    "\n",
    "print(f\"You will be 100 years old in {year}\")"
   ]
  },
  {
   "cell_type": "code",
   "execution_count": 48,
   "id": "f5cf6a64-e5fd-48fd-9d45-26a80522718e",
   "metadata": {},
   "outputs": [
    {
     "name": "stdin",
     "output_type": "stream",
     "text": [
      "What's your a:  2\n",
      "What's your b:  4\n"
     ]
    },
    {
     "name": "stdout",
     "output_type": "stream",
     "text": [
      "The Answer is 36\n"
     ]
    }
   ],
   "source": [
    "a = int(input(\"What's your a: \"))\n",
    "b = int(input(\"What's your b: \"))\n",
    "\n",
    "formula = a**2 + b**2 + 2*a*b\n",
    "\n",
    "print(f\"The Answer is {formula}\")"
   ]
  },
  {
   "cell_type": "markdown",
   "id": "6f4edf02-abee-4653-b507-99362be14bd9",
   "metadata": {},
   "source": [
    "## Home task\n",
    "* Ask Temprature in Celsius and Convert it into Fahrenheit\n",
    "* Ask The User Weight and Height and Calculate its BMI"
   ]
  },
  {
   "cell_type": "markdown",
   "id": "2fafbcfe-7750-4854-bcbf-8d12b4115c8e",
   "metadata": {},
   "source": [
    "## Operators and precedence of operators left"
   ]
  },
  {
   "cell_type": "code",
   "execution_count": 2,
   "id": "3ad5094a-eba8-493a-85d5-b057685f4a7f",
   "metadata": {},
   "outputs": [
    {
     "name": "stdin",
     "output_type": "stream",
     "text": [
      "Give me 1st profit:  500\n",
      "Give me 2nd profit:  200\n"
     ]
    },
    {
     "name": "stdout",
     "output_type": "stream",
     "text": [
      "The profit to each is 350.0\n"
     ]
    }
   ],
   "source": [
    "day1 = int(input(\"Give me 1st profit: \"))\n",
    "day2 = int(input(\"Give me 2nd profit: \"))\n",
    "\n",
    "profit = (day1 + day2) / 2 \n",
    "\n",
    "print(f\"The profit to each is {profit}\")"
   ]
  },
  {
   "cell_type": "code",
   "execution_count": 4,
   "id": "b0ce0b5d-3923-424a-9432-7a90f9f61859",
   "metadata": {},
   "outputs": [
    {
     "name": "stdin",
     "output_type": "stream",
     "text": [
      "Enter temperature in Celsius:  37.558484\n"
     ]
    },
    {
     "name": "stdout",
     "output_type": "stream",
     "text": [
      "Temperature in Fahrenheit: 99.61°F\n"
     ]
    }
   ],
   "source": [
    "celsius = float(input(\"Enter temperature in Celsius: \"))\n",
    "fahrenheit = (celsius * 9/5) + 32\n",
    "\n",
    "print(f\"Temperature in Fahrenheit: {fahrenheit:.2f}°F\")"
   ]
  },
  {
   "cell_type": "code",
   "execution_count": null,
   "id": "150b6424-1511-495a-886a-51e8ad4b5ba9",
   "metadata": {},
   "outputs": [],
   "source": [
    "weight = float(input(\"Enter your weight in kilograms: \"))\n",
    "height = float(input(\"Enter your height in meters: \"))\n",
    "\n",
    "bmi = weight / (height ** 2)\n",
    "print(f\"Your BMI is: {bmi:.2f}\")"
   ]
  },
  {
   "cell_type": "code",
   "execution_count": 9,
   "id": "1ab4b63d-e8aa-4511-866d-c8395358f570",
   "metadata": {},
   "outputs": [
    {
     "name": "stdout",
     "output_type": "stream",
     "text": [
      "Yeh 500 Lines ka code he\n",
      "Yeh 500 Lines ka code he\n",
      "Yeh 500 Lines ka code he\n",
      "Yeh 500 Lines ka code he\n",
      "Yeh 500 Lines ka code he\n"
     ]
    }
   ],
   "source": [
    "for i in range(5):\n",
    "    print(\"Yeh 500 Lines ka code he\")"
   ]
  },
  {
   "cell_type": "code",
   "execution_count": 11,
   "id": "8bdea9e1-8550-4953-9a41-8b6dd4f882b3",
   "metadata": {},
   "outputs": [
    {
     "name": "stdin",
     "output_type": "stream",
     "text": [
      "Enter temperature in Celsius:  45\n"
     ]
    },
    {
     "name": "stdout",
     "output_type": "stream",
     "text": [
      "Temperature in Fahrenheit: 113.00°F\n",
      "-------------------\n",
      "\n"
     ]
    },
    {
     "name": "stdin",
     "output_type": "stream",
     "text": [
      "Enter temperature in Celsius:  84\n"
     ]
    },
    {
     "name": "stdout",
     "output_type": "stream",
     "text": [
      "Temperature in Fahrenheit: 183.20°F\n",
      "-------------------\n",
      "\n"
     ]
    },
    {
     "name": "stdin",
     "output_type": "stream",
     "text": [
      "Enter temperature in Celsius:  841\n"
     ]
    },
    {
     "name": "stdout",
     "output_type": "stream",
     "text": [
      "Temperature in Fahrenheit: 1545.80°F\n",
      "-------------------\n",
      "\n"
     ]
    }
   ],
   "source": [
    "for i in range(3):\n",
    "    celsius = float(input(\"Enter temperature in Celsius: \"))\n",
    "    fahrenheit = (celsius * 9/5) + 32\n",
    "    \n",
    "    print(f\"Temperature in Fahrenheit: {fahrenheit:.2f}°F\\n-------------------\\n\")"
   ]
  },
  {
   "cell_type": "code",
   "execution_count": 19,
   "id": "71b90631-e2ab-4e5e-848a-1123938189b5",
   "metadata": {},
   "outputs": [
    {
     "name": "stdout",
     "output_type": "stream",
     "text": [
      "2 x 1 = 2\n",
      "2 x 2 = 4\n",
      "2 x 3 = 6\n",
      "2 x 4 = 8\n",
      "2 x 5 = 10\n",
      "2 x 6 = 12\n",
      "2 x 7 = 14\n",
      "2 x 8 = 16\n",
      "2 x 9 = 18\n",
      "2 x 10 = 20\n"
     ]
    }
   ],
   "source": [
    "\"2 x 1 = 2\"\n",
    "for i in range(1, 11):\n",
    "    print(f\"2 x {i} = {2*i}\")"
   ]
  },
  {
   "cell_type": "markdown",
   "id": "1b0be34f-6cbf-482f-b447-854653763685",
   "metadata": {},
   "source": [
    "### Home Task\n",
    "* Ask the User number of table and till where he wants and print the entire table"
   ]
  },
  {
   "cell_type": "code",
   "execution_count": 3,
   "id": "6528a427-0bec-4d94-b084-4441f1633912",
   "metadata": {},
   "outputs": [
    {
     "name": "stdin",
     "output_type": "stream",
     "text": [
      "Which number of table do you want:  50\n",
      "Till where you want:  6\n"
     ]
    },
    {
     "name": "stdout",
     "output_type": "stream",
     "text": [
      "50 x 1 = 50\n",
      "50 x 2 = 100\n",
      "50 x 3 = 150\n",
      "50 x 4 = 200\n",
      "50 x 5 = 250\n"
     ]
    }
   ],
   "source": [
    "num = int(input(\"Which number of table do you want: \"))\n",
    "til = int(input(\"Till where you want: \"))\n",
    "\n",
    "for i in range(1, til+1):\n",
    "    print(f\"{num} x {i} = {num*i}\")"
   ]
  },
  {
   "cell_type": "code",
   "execution_count": 16,
   "id": "d4a830b1-3de3-4fb1-b965-092bb61634bb",
   "metadata": {},
   "outputs": [
    {
     "name": "stdout",
     "output_type": "stream",
     "text": [
      "0\n",
      "2\n",
      "4\n",
      "6\n",
      "8\n",
      "10\n",
      "12\n",
      "14\n",
      "16\n",
      "18\n",
      "20\n"
     ]
    }
   ],
   "source": [
    "for i in range(0, 21, 2):\n",
    "    print(i)"
   ]
  },
  {
   "cell_type": "code",
   "execution_count": 20,
   "id": "86fa1c47-f314-426b-bc69-dd7540d8e0ba",
   "metadata": {},
   "outputs": [
    {
     "name": "stdout",
     "output_type": "stream",
     "text": [
      "9\n",
      "8\n",
      "7\n",
      "6\n",
      "5\n",
      "4\n",
      "3\n",
      "2\n",
      "1\n"
     ]
    }
   ],
   "source": [
    "for i in range(9, 0, -1):\n",
    "    print(i)"
   ]
  },
  {
   "cell_type": "code",
   "execution_count": 22,
   "id": "1d9f8340-5267-4da6-92d2-e84dbadd68b7",
   "metadata": {},
   "outputs": [
    {
     "name": "stdout",
     "output_type": "stream",
     "text": [
      "i is  T\n",
      "i is  h\n",
      "i is  i\n",
      "i is  s\n",
      "i is   \n",
      "i is  i\n",
      "i is  s\n",
      "i is   \n",
      "i is  A\n",
      "i is  r\n",
      "i is  s\n",
      "i is  h\n",
      "i is  a\n",
      "i is  d\n",
      "i is  '\n",
      "i is  s\n",
      "i is   \n",
      "i is  p\n",
      "i is  e\n",
      "i is  n\n",
      "i is  .\n"
     ]
    }
   ],
   "source": [
    "y = \"This is Arshad's pen.\"\n",
    "\n",
    "for i in y:\n",
    "    print(\"i is \", i)"
   ]
  },
  {
   "cell_type": "code",
   "execution_count": 24,
   "id": "d4973237-e7f4-46bc-abe0-23431a218fcc",
   "metadata": {},
   "outputs": [
    {
     "name": "stdout",
     "output_type": "stream",
     "text": [
      "8\n"
     ]
    }
   ],
   "source": [
    "a = 2\n",
    "\n",
    "a = a  * 4\n",
    "print(a)"
   ]
  },
  {
   "cell_type": "code",
   "execution_count": 30,
   "id": "5cfd016e-6293-465b-9fa8-39d40e0fdba2",
   "metadata": {},
   "outputs": [
    {
     "name": "stdin",
     "output_type": "stream",
     "text": [
      "Which number of factorial do you want:  2\n"
     ]
    },
    {
     "name": "stdout",
     "output_type": "stream",
     "text": [
      "The factorial of 2! is 2\n"
     ]
    }
   ],
   "source": [
    "n = int(input(\"Which number of factorial do you want: \"))\n",
    "fact = 1\n",
    "\n",
    "for i in range(1, n+1):\n",
    "    fact *= i\n",
    "\n",
    "print(f\"The factorial of {n}! is {fact}\")"
   ]
  },
  {
   "cell_type": "code",
   "execution_count": 35,
   "id": "b42ca643-659e-4b5f-b138-142383333e5f",
   "metadata": {},
   "outputs": [
    {
     "name": "stdout",
     "output_type": "stream",
     "text": [
      "0.6666666666666666\n"
     ]
    }
   ],
   "source": [
    "a = 2\n",
    "# a = a + 2\n",
    "a /= 3\n",
    "\n",
    "print(a)"
   ]
  },
  {
   "cell_type": "code",
   "execution_count": 38,
   "id": "2b389ada-53df-4365-83d3-f58b8c613d18",
   "metadata": {},
   "outputs": [
    {
     "name": "stdout",
     "output_type": "stream",
     "text": [
      "1 0\n",
      "2 0\n",
      "2 1\n"
     ]
    }
   ],
   "source": [
    "for i in range(3):\n",
    "    for j in range(i):\n",
    "        print(i, j)"
   ]
  },
  {
   "cell_type": "code",
   "execution_count": 39,
   "id": "4d51e693-4670-4c44-9860-be94ca63676f",
   "metadata": {},
   "outputs": [
    {
     "data": {
      "text/plain": [
       "2197"
      ]
     },
     "execution_count": 39,
     "metadata": {},
     "output_type": "execute_result"
    }
   ],
   "source": [
    "13**3"
   ]
  },
  {
   "cell_type": "markdown",
   "id": "3dca1055-07fa-471e-8853-4f894d450c37",
   "metadata": {},
   "source": [
    "### Home Task\n",
    "* Take an input from the user and show the reverse factorial of each number\n",
    "e.g.\n",
    "\n",
    "* 5! 120\n",
    "* 4! 24\n",
    "* 3! 6"
   ]
  },
  {
   "cell_type": "code",
   "execution_count": 5,
   "id": "64d8125d-a9b4-4bf4-a787-cf7a66aab8e6",
   "metadata": {},
   "outputs": [
    {
     "name": "stdin",
     "output_type": "stream",
     "text": [
      "Which number of factorial do you want:  6\n"
     ]
    },
    {
     "name": "stdout",
     "output_type": "stream",
     "text": [
      "The Factorial of 6! is 720\n",
      "The Factorial of 5! is 120\n",
      "The Factorial of 4! is 24\n",
      "The Factorial of 3! is 6\n",
      "The Factorial of 2! is 2\n",
      "The Factorial of 1! is 1\n"
     ]
    }
   ],
   "source": [
    "n =int(input(\"Which number of factorial do you want: \"))\n",
    "fact = 1\n",
    "\n",
    "for i in range(1, n + 1):\n",
    "    fact *= i\n",
    "\n",
    "for i in range(n, 0, -1):\n",
    "    print(f\"The Factorial of {i}! is {int(fact)}\")\n",
    "    fact /= i"
   ]
  },
  {
   "cell_type": "code",
   "execution_count": 38,
   "id": "ffed0242-5378-45e0-b2d0-652c93ee8d5c",
   "metadata": {},
   "outputs": [
    {
     "name": "stdout",
     "output_type": "stream",
     "text": [
      "720\n",
      "120\n",
      "24\n",
      "6\n",
      "2\n",
      "1\n"
     ]
    }
   ],
   "source": [
    "n = 6\n",
    "\n",
    "for i in range(n, 0, -1):\n",
    "    fact = 1\n",
    "    for j in range(1, i+1):\n",
    "        fact *= j\n",
    "    print(fact)"
   ]
  },
  {
   "cell_type": "code",
   "execution_count": 9,
   "id": "67fcd6f3-9a47-4d3b-becf-1cd521930b63",
   "metadata": {},
   "outputs": [
    {
     "name": "stdin",
     "output_type": "stream",
     "text": [
      "Which number of factorial do you want:  -4\n"
     ]
    },
    {
     "name": "stdout",
     "output_type": "stream",
     "text": [
      "The factorial of -4! is 1\n"
     ]
    }
   ],
   "source": [
    "n = int(input(\"Which number of factorial do you want: \"))\n",
    "fact = 1\n",
    "\n",
    "for i in range(1, n+1):\n",
    "    fact *= i\n",
    "\n",
    "print(f\"The factorial of {n}! is {fact}\")"
   ]
  },
  {
   "cell_type": "code",
   "execution_count": 19,
   "id": "5ed372a1-ffc6-486b-9089-e7416537568a",
   "metadata": {},
   "outputs": [
    {
     "name": "stdin",
     "output_type": "stream",
     "text": [
      "What's your marks:  49.5\n"
     ]
    },
    {
     "ename": "ValueError",
     "evalue": "invalid literal for int() with base 10: '49.5'",
     "output_type": "error",
     "traceback": [
      "\u001b[1;31m---------------------------------------------------------------------------\u001b[0m",
      "\u001b[1;31mValueError\u001b[0m                                Traceback (most recent call last)",
      "Cell \u001b[1;32mIn[19], line 1\u001b[0m\n\u001b[1;32m----> 1\u001b[0m marks \u001b[38;5;241m=\u001b[39m \u001b[38;5;28mint\u001b[39m(\u001b[38;5;28minput\u001b[39m(\u001b[38;5;124m\"\u001b[39m\u001b[38;5;124mWhat\u001b[39m\u001b[38;5;124m'\u001b[39m\u001b[38;5;124ms your marks: \u001b[39m\u001b[38;5;124m\"\u001b[39m))\n\u001b[0;32m      3\u001b[0m \u001b[38;5;28;01mif\u001b[39;00m marks \u001b[38;5;241m>\u001b[39m \u001b[38;5;241m49\u001b[39m:\n\u001b[0;32m      4\u001b[0m     \u001b[38;5;28mprint\u001b[39m(\u001b[38;5;124m\"\u001b[39m\u001b[38;5;124mYou are Pass, Mubarak HO!!\u001b[39m\u001b[38;5;124m\"\u001b[39m)\n",
      "\u001b[1;31mValueError\u001b[0m: invalid literal for int() with base 10: '49.5'"
     ]
    }
   ],
   "source": [
    "marks = int(input(\"What's your marks: \"))\n",
    "\n",
    "if marks >= 50:\n",
    "    print(\"You are Pass, Mubarak HO!!\")\n",
    "else:\n",
    "    print(\"You are Failed, Mehnat KRO!!\")\n",
    "    "
   ]
  },
  {
   "cell_type": "code",
   "execution_count": 28,
   "id": "43e6d97d-c283-4cb8-a0b8-1bd5edcebb42",
   "metadata": {},
   "outputs": [
    {
     "name": "stdout",
     "output_type": "stream",
     "text": [
      "False\n"
     ]
    }
   ],
   "source": [
    "print(2 >= 7)"
   ]
  },
  {
   "cell_type": "code",
   "execution_count": 33,
   "id": "b3b144f2-4b60-41cb-b335-0b94f1e4f9b0",
   "metadata": {},
   "outputs": [
    {
     "name": "stdin",
     "output_type": "stream",
     "text": [
      "What's your age:  18\n"
     ]
    },
    {
     "name": "stdout",
     "output_type": "stream",
     "text": [
      "Allow nhi he!!\n"
     ]
    }
   ],
   "source": [
    "age = int(input(\"What's your age: \"))\n",
    "\n",
    "if age != 18 :\n",
    "    print(\"Allow He!!\")\n",
    "else:\n",
    "    print(\"Allow nhi he!!\")"
   ]
  },
  {
   "cell_type": "code",
   "execution_count": 37,
   "id": "3fd10094-1a8c-4794-804f-45c2fdaf7a76",
   "metadata": {},
   "outputs": [
    {
     "name": "stdin",
     "output_type": "stream",
     "text": [
      "Give me a number:  84574\n"
     ]
    },
    {
     "name": "stdout",
     "output_type": "stream",
     "text": [
      "This is EVEN\n"
     ]
    }
   ],
   "source": [
    "num = int(input(\"Give me a number: \"))\n",
    "\n",
    "if num % 2 != 0:\n",
    "    print(\"This is ODD\")\n",
    "else:\n",
    "    print(\"This is EVEN\")\n",
    "    "
   ]
  },
  {
   "cell_type": "code",
   "execution_count": 3,
   "id": "ca26d270-1a6c-4f5b-93a7-b5cda64e7500",
   "metadata": {},
   "outputs": [
    {
     "name": "stdin",
     "output_type": "stream",
     "text": [
      "What's your english Marks:  51\n",
      "What's your Math Marks:  52\n",
      "What's your Urdu Marks:  65\n"
     ]
    },
    {
     "name": "stdout",
     "output_type": "stream",
     "text": [
      "---------------------\n",
      "Your marks are 168\n",
      "Percentage is 56.00%\n",
      "Your grade is C\n"
     ]
    }
   ],
   "source": [
    "eng = int(input(\"What's your english Marks: \"))\n",
    "mat = int(input(\"What's your Math Marks: \"))\n",
    "urd = int(input(\"What's your Urdu Marks: \"))\n",
    "\n",
    "obt_marks = eng + mat + urd\n",
    "percentage = obt_marks / 300 * 100\n",
    "\n",
    "print(f\"---------------------\\nYour marks are {obt_marks}\\nPercentage is {percentage:.2f}%\")\n",
    "\n",
    "if eng < 50 or mat < 50 or urd < 50:\n",
    "    print(\"You are Failed, Thats Why Grade is not applicable\")\n",
    "else:\n",
    "    print(\"You are Pass\")\n",
    "    if percentage >= 80 and percentage <=100:\n",
    "        print(\"Your grade is A+\")\n",
    "    elif percentage >= 70 and percentage <80:\n",
    "        print(\"Your grade is A\")\n",
    "    elif percentage >= 60 and percentage <70:\n",
    "        print(\"Your grade is B\")\n",
    "    elif percentage >= 50 and percentage <60:\n",
    "        print(\"Your grade is C\")\n",
    "    elif percentage >=0 and percentage <50:\n",
    "        print(\"You are Failed\")\n",
    "    else:\n",
    "        print(\"Invalid Value of Percentage\")"
   ]
  },
  {
   "cell_type": "markdown",
   "id": "0aeeae84-f1e1-439d-bb6c-6f53ddd2ad8d",
   "metadata": {},
   "source": [
    "### Home Task\n",
    "1. Take a string input from user and count the 'a's in it or a particular character.\n",
    "2. Correct the Marksheet as if a student fails in a subject it should show Fail."
   ]
  },
  {
   "cell_type": "code",
   "execution_count": 46,
   "id": "23e36c7c-90bb-4fac-a175-1d4dead05246",
   "metadata": {},
   "outputs": [
    {
     "name": "stdin",
     "output_type": "stream",
     "text": [
      "What's your english Marks:  25\n",
      "What's your Math Marks:  48\n",
      "What's your Urdu Marks:  110\n"
     ]
    },
    {
     "name": "stdout",
     "output_type": "stream",
     "text": [
      "Marks are Exceeding\n"
     ]
    }
   ],
   "source": [
    "eng = int(input(\"What's your english Marks: \"))\n",
    "mat = int(input(\"What's your Math Marks: \"))\n",
    "urd = int(input(\"What's your Urdu Marks: \"))\n",
    "\n",
    "if eng > 100 or mat > 100 or urd > 100:\n",
    "    print(\"Marks are Exceeding\")\n",
    "else:\n",
    "    print(\"Okay he sb kuch\")"
   ]
  },
  {
   "cell_type": "code",
   "execution_count": 16,
   "id": "12811834-671f-41d9-bae3-18b7ed72316e",
   "metadata": {},
   "outputs": [
    {
     "name": "stdin",
     "output_type": "stream",
     "text": [
      "Give me a String:  ABC\n"
     ]
    },
    {
     "name": "stdout",
     "output_type": "stream",
     "text": [
      "abc\n"
     ]
    },
    {
     "name": "stdin",
     "output_type": "stream",
     "text": [
      "Give me a character you want to find:  a\n"
     ]
    },
    {
     "name": "stdout",
     "output_type": "stream",
     "text": [
      "a a\n",
      "b a\n",
      "c a\n",
      "There are 1 a's in abc\n"
     ]
    }
   ],
   "source": [
    "a = input(\"Give me a String: \").lower()\n",
    "print(a)\n",
    "character = input(\"Give me a character you want to find: \")\n",
    "count = 0\n",
    "for i in a:\n",
    "    print(i.lower(), character.lower())\n",
    "    if i.lower() == character.lower():\n",
    "        count += 1\n",
    "        \n",
    "print(f\"There are {count} {character}'s in {a}\")"
   ]
  },
  {
   "cell_type": "code",
   "execution_count": 44,
   "id": "70b7b61a-7c66-4b24-9fc9-8d54997229e1",
   "metadata": {},
   "outputs": [
    {
     "name": "stdout",
     "output_type": "stream",
     "text": [
      " aMJAD aZIZ \n"
     ]
    }
   ],
   "source": [
    "a = \"My name is Amjad Aziz. I am student of AI. I work as a Data Analyst.\"\n",
    "x = \" Amjad Aziz \"\n",
    "b = \" abc@gmail.com \"\n",
    "y = x.swapcase()\n",
    "# y = a.title()\n",
    "# y = a.lower().count(\"A\".lower())\n",
    "# print(a.upper())\n",
    "# print(a.lower())\n",
    "# print(a.capitalize())\n",
    "# print(b.strip())\n",
    "# print(y)\n",
    "# print(len(x))\n",
    "# y = a.find(\"k\")\n",
    "# y = a.replace(\"Amjad\", \"Arshad\")\n",
    "# y = a.split(\".\")\n",
    "\n",
    "print(y)"
   ]
  },
  {
   "cell_type": "code",
   "execution_count": 60,
   "id": "4a61d58b-a7ba-4ec8-8857-da9ad259b15a",
   "metadata": {},
   "outputs": [
    {
     "name": "stdout",
     "output_type": "stream",
     "text": [
      "Pakistan came into being on 14 august 1947 its is my country \n"
     ]
    }
   ],
   "source": [
    "x = \" pakistan  Came into being   on 14   August 1947.Its is my   country.\"\n",
    "z = \" \".join(x.strip().split()).split(\".\")\n",
    "z = \" \".join(z).lower().capitalize()\n",
    "# z[42].append()\n",
    "print(z)\n",
    "# print(z.find(\"7\"))"
   ]
  },
  {
   "cell_type": "code",
   "execution_count": 62,
   "id": "c774bd95-ee08-4a82-8c41-46c7fc25714f",
   "metadata": {},
   "outputs": [
    {
     "name": "stdout",
     "output_type": "stream",
     "text": [
      "amjad\n"
     ]
    }
   ],
   "source": [
    "a = \"Amjad\"\n",
    "\n",
    "print(a.lower())"
   ]
  },
  {
   "cell_type": "code",
   "execution_count": 3,
   "id": "71d654ba-3ef8-492a-a767-252d8937c7bd",
   "metadata": {},
   "outputs": [
    {
     "name": "stdout",
     "output_type": "stream",
     "text": [
      "Loop\n",
      "Loop\n",
      "Loop\n",
      "Loop\n"
     ]
    }
   ],
   "source": [
    "a = 5\n",
    "\n",
    "while a > 1:\n",
    "    print(\"Loop\")\n",
    "    a -= 1"
   ]
  },
  {
   "cell_type": "code",
   "execution_count": null,
   "id": "8d86b044-fb70-447e-b8eb-e14205575979",
   "metadata": {},
   "outputs": [],
   "source": [
    "a = input(\"Press 'q' to stop or other key to continue: \")\n",
    "\n",
    "while a != \"q\":\n",
    "    print(\"Loop is running.. \\n\\n\")\n",
    "\n",
    "    a = input(\"Press 'q' to stop or other key to continue: \")\n",
    "\n"
   ]
  },
  {
   "cell_type": "code",
   "execution_count": null,
   "id": "2d387549-7568-4612-97db-7e1e62b1e617",
   "metadata": {},
   "outputs": [],
   "source": [
    "while True:\n",
    "    print(\"Loop is running.. \\n\\n\")\n",
    "\n",
    "    a = input(\"Press 'q' to stop or other key to continue: \")\n",
    "    if a.lower() == \"q\":\n",
    "        break"
   ]
  },
  {
   "cell_type": "code",
   "execution_count": 5,
   "id": "7fa37eaa-899e-4a5c-b464-7ff16cbbd946",
   "metadata": {},
   "outputs": [
    {
     "name": "stdout",
     "output_type": "stream",
     "text": [
      "Some Big chunk of code\n"
     ]
    }
   ],
   "source": [
    "print(\"Hello\")\n",
    "print(\"Welcome to this program\")\n",
    "a = 5\n",
    "a = a - 3\n",
    "print(a)\n"
   ]
  },
  {
   "cell_type": "code",
   "execution_count": 11,
   "id": "abc360b1-28f7-4ee2-acb5-5b4bf3b5cbb5",
   "metadata": {},
   "outputs": [
    {
     "name": "stdout",
     "output_type": "stream",
     "text": [
      "Hello\n",
      "Welcome to this program\n",
      "Hello\n",
      "Welcome to this program\n",
      "Hello\n",
      "Welcome to this program\n",
      "Hello\n",
      "Welcome to this program\n",
      "Hello\n",
      "Welcome to this program\n"
     ]
    }
   ],
   "source": [
    "def Welcome():\n",
    "    print(\"Hello\")\n",
    "    print(\"Welcome to this program\")\n",
    "Welcome()\n",
    "a = 5\n",
    "Welcome()\n",
    "b = 4\n",
    "Welcome()\n",
    "c = b + a\n",
    "Welcome()\n",
    "Welcome()"
   ]
  },
  {
   "cell_type": "code",
   "execution_count": 13,
   "id": "b48a5a46-ae22-456c-8af3-fc36374c2f96",
   "metadata": {},
   "outputs": [
    {
     "name": "stdout",
     "output_type": "stream",
     "text": [
      "2 x 1= 2\n",
      "2 x 2= 4\n",
      "2 x 3= 6\n",
      "2 x 4= 8\n",
      "2 x 5= 10\n",
      "2 x 6= 12\n",
      "2 x 7= 14\n",
      "2 x 8= 16\n",
      "2 x 9= 18\n",
      "2 x 10= 20\n",
      "2 x 1= 2\n",
      "2 x 2= 4\n",
      "2 x 3= 6\n",
      "2 x 4= 8\n",
      "2 x 5= 10\n",
      "2 x 6= 12\n",
      "2 x 7= 14\n",
      "2 x 8= 16\n",
      "2 x 9= 18\n",
      "2 x 10= 20\n",
      "2 x 1= 2\n",
      "2 x 2= 4\n",
      "2 x 3= 6\n",
      "2 x 4= 8\n",
      "2 x 5= 10\n",
      "2 x 6= 12\n",
      "2 x 7= 14\n",
      "2 x 8= 16\n",
      "2 x 9= 18\n",
      "2 x 10= 20\n"
     ]
    }
   ],
   "source": [
    "def table():\n",
    "    for i in range(1, 11):\n",
    "        print(f\"2 x {i}= {2*i}\")\n",
    "\n",
    "table()\n",
    "table()\n",
    "table()"
   ]
  },
  {
   "cell_type": "code",
   "execution_count": 21,
   "id": "9b6191d1-902b-40ba-b5ba-1cf5205f3c62",
   "metadata": {},
   "outputs": [
    {
     "name": "stdout",
     "output_type": "stream",
     "text": [
      "Hello\n",
      "Welcome to this program\n"
     ]
    }
   ],
   "source": [
    "def Welcome():\n",
    "    print(\"Hello\")\n",
    "    print(\"Welcome to this program\")\n",
    "\n",
    "    # Welcome()\n",
    "\n",
    "Welcome()"
   ]
  },
  {
   "cell_type": "code",
   "execution_count": 25,
   "id": "79251ffa-8514-4a29-a24e-acdfb3ba23d5",
   "metadata": {},
   "outputs": [
    {
     "name": "stdin",
     "output_type": "stream",
     "text": [
      "What's your english Marks:  98\n",
      "What's your Math Marks:  97\n",
      "What's your Urdu Marks:  97\n"
     ]
    },
    {
     "name": "stdout",
     "output_type": "stream",
     "text": [
      "---------------------\n",
      "Your marks are 292\n",
      "Percentage is 97.33%\n",
      "You are Pass\n",
      "Your grade is A+\n"
     ]
    },
    {
     "name": "stdin",
     "output_type": "stream",
     "text": [
      "Press 'q' to stop or other key to continue:  q\n"
     ]
    }
   ],
   "source": [
    "def Marksheet():\n",
    "    eng = int(input(\"What's your english Marks: \"))\n",
    "    mat = int(input(\"What's your Math Marks: \"))\n",
    "    urd = int(input(\"What's your Urdu Marks: \"))\n",
    "    \n",
    "    obt_marks = eng + mat + urd\n",
    "    percentage = obt_marks / 300 * 100\n",
    "    \n",
    "    print(f\"---------------------\\nYour marks are {obt_marks}\\nPercentage is {percentage:.2f}%\")\n",
    "    \n",
    "    if eng < 50 or mat < 50 or urd < 50:\n",
    "        print(\"You are Failed, Thats Why Grade is not applicable\")\n",
    "    else:\n",
    "        print(\"You are Pass\")\n",
    "        if percentage >= 80 and percentage <=100:\n",
    "            print(\"Your grade is A+\")\n",
    "        elif percentage >= 70 and percentage <80:\n",
    "            print(\"Your grade is A\")\n",
    "        elif percentage >= 60 and percentage <70:\n",
    "            print(\"Your grade is B\")\n",
    "        elif percentage >= 50 and percentage <60:\n",
    "            print(\"Your grade is C\")\n",
    "        elif percentage >=0 and percentage <50:\n",
    "            print(\"You are Failed\")\n",
    "        else:\n",
    "            print(\"Invalid Value of Percentage\")\n",
    "\n",
    "while True:\n",
    "    Marksheet()\n",
    "\n",
    "    a = input(\"Press 'q' to stop or other key to continue: \")\n",
    "    if a.lower() == \"q\":\n",
    "        break"
   ]
  },
  {
   "cell_type": "code",
   "execution_count": 37,
   "id": "d830e1a6-8806-46e0-b9e1-f57d100b9d45",
   "metadata": {},
   "outputs": [
    {
     "name": "stdout",
     "output_type": "stream",
     "text": [
      "Your salary was 50000\n",
      "You got 70000\n",
      "Your salary was 60000\n",
      "You got 80000\n",
      "Your salary was 170000\n",
      "You got 190000\n"
     ]
    }
   ],
   "source": [
    "def bonus(salary):\n",
    "    print(f\"Your salary was {salary}\")\n",
    "    print(f\"You got {20000 + salary}\")\n",
    "\n",
    "umer = 50000\n",
    "fahad = 60000\n",
    "qari = 170000\n",
    "bonus(umer)\n",
    "bonus(fahad)\n",
    "bonus(qari)"
   ]
  },
  {
   "cell_type": "code",
   "execution_count": 39,
   "id": "91a2cd65-83ab-459c-8ee0-4e25da504a24",
   "metadata": {},
   "outputs": [
    {
     "name": "stdout",
     "output_type": "stream",
     "text": [
      "-5\n"
     ]
    }
   ],
   "source": [
    "def Minus(x, y):\n",
    "    print( y - x)\n",
    "\n",
    "Minus(15, 10)"
   ]
  },
  {
   "cell_type": "code",
   "execution_count": 47,
   "id": "dea5bbe1-6f73-43a4-8b08-1e320f59c649",
   "metadata": {},
   "outputs": [
    {
     "name": "stdin",
     "output_type": "stream",
     "text": [
      "Name:  Amjad\n",
      "Salary 1000\n"
     ]
    },
    {
     "name": "stdout",
     "output_type": "stream",
     "text": [
      "Amjad your salary was 1000\n",
      "You got 21000\n"
     ]
    }
   ],
   "source": [
    "def bonus(name, salary):\n",
    "    print(f\"{name} your salary was {salary}\")\n",
    "    print(f\"You got {salary + 20000}\")\n",
    "\n",
    "name = input(\"Whats your name: \")\n",
    "salary = int(input(\"Salary?? : \"))\n",
    "\n",
    "bonus(name, salary)\n",
    "# bonus(input(\"Name: \"), int(input(\"Salary\")))"
   ]
  },
  {
   "cell_type": "code",
   "execution_count": 51,
   "id": "3a322b00-3469-4716-8aa0-45275b54693c",
   "metadata": {},
   "outputs": [
    {
     "name": "stdout",
     "output_type": "stream",
     "text": [
      "Your salary was 50000\n",
      "You got 70000\n",
      "Your salary was 170000\n",
      "You got 190000\n"
     ]
    }
   ],
   "source": [
    "def bonus(salary = 50000):\n",
    "    print(f\"Your salary was {salary}\")\n",
    "    print(f\"You got {20000 + salary}\")\n",
    "\n",
    "umer = 50000\n",
    "fahad = 60000\n",
    "qari = 170000\n",
    "bonus()\n",
    "bonus(qari)"
   ]
  },
  {
   "cell_type": "code",
   "execution_count": 61,
   "id": "55047d21-2a1f-4c60-8b62-725eca190869",
   "metadata": {},
   "outputs": [
    {
     "name": "stdout",
     "output_type": "stream",
     "text": [
      "50.0\n",
      "None\n"
     ]
    }
   ],
   "source": [
    "def percentage(obt):\n",
    "    return obt / 300 * 100\n",
    "\n",
    "ali = percentage(150)\n",
    "\n",
    "print(print(ali))"
   ]
  },
  {
   "cell_type": "code",
   "execution_count": 63,
   "id": "00b061f1-df30-4473-a6e2-beaf94c0779a",
   "metadata": {},
   "outputs": [
    {
     "name": "stdout",
     "output_type": "stream",
     "text": [
      "12 12\n"
     ]
    }
   ],
   "source": [
    "a = \"12\"\n",
    "\n",
    "b = int(a)\n",
    "\n",
    "print(b, int(a))"
   ]
  },
  {
   "cell_type": "markdown",
   "id": "e6630863-696e-4a87-a0aa-6fe45b3c3422",
   "metadata": {},
   "source": [
    "### Home Task\n",
    "\n",
    "Task: Create a function that simulates a simple banking system with the following operations:\n",
    "\n",
    "1. Deposit (add money to balance)\n",
    "\n",
    "2. Withdraw (subtract money from balance)\n",
    "\n",
    "3. View balance (prints the current balance)\n",
    "\n",
    "The function should take parameters to define the type of transaction (deposit/withdraw/view) and the amount (for deposit/withdraw). Implement default balance as 0.\n",
    "\n",
    "Example:\n",
    "\n",
    "     * bank_account(\"deposit\", 500) → Balance is now 500.\n",
    "\n",
    "     * bank_account(\"withdraw\", 200) → Balance is now 300.\n",
    "\n",
    "     * bank_account(\"view\") → Balance is 300."
   ]
  },
  {
   "cell_type": "code",
   "execution_count": 11,
   "id": "b2198e3e-e71b-4872-a4e4-bb2ac6ee8c31",
   "metadata": {},
   "outputs": [
    {
     "data": {
      "text/plain": [
       "'Your amount withdrew and balance is -100'"
      ]
     },
     "execution_count": 11,
     "metadata": {},
     "output_type": "execute_result"
    }
   ],
   "source": [
    "def bank_account(opr, balance = 0):\n",
    "    amount = 0\n",
    "    if opr == \"view\":\n",
    "        return f\"Your balance is {balance}\"\n",
    "    elif opr == \"deposit\":\n",
    "        amount = balance\n",
    "        return f\"Your amount deposited and balance is {amount}\"\n",
    "    elif opr == \"withdraw\":\n",
    "        amount = amount - balance\n",
    "        return f\"Your amount withdrew and balance is {amount}\"\n",
    "    else:\n",
    "        pass\n",
    "\n",
    "bank_account(\"withdraw\", 100)\n"
   ]
  },
  {
   "cell_type": "code",
   "execution_count": null,
   "id": "1fc750dd-008a-4f12-9a34-873e2b43f90d",
   "metadata": {},
   "outputs": [],
   "source": []
  },
  {
   "cell_type": "code",
   "execution_count": 15,
   "id": "0f25b325-6e4c-43b4-b4da-fa0c228fb089",
   "metadata": {},
   "outputs": [
    {
     "name": "stdout",
     "output_type": "stream",
     "text": [
      "5\n"
     ]
    }
   ],
   "source": [
    "def func():\n",
    "    pass\n",
    "\n",
    "\n",
    "a = 5\n",
    "print(a)"
   ]
  },
  {
   "cell_type": "code",
   "execution_count": 23,
   "id": "7482967b-f447-40bc-86cd-226abdef7637",
   "metadata": {},
   "outputs": [
    {
     "name": "stdout",
     "output_type": "stream",
     "text": [
      "Hello ABC.. You are from Pakistan\n",
      "Hello XYZ.. You are from Afghanistan\n",
      "Hello ALI.. You are from Pakistan\n"
     ]
    }
   ],
   "source": [
    "def greet(name, country = \"Pakistan\"):\n",
    "    print(f\"Hello {name}.. You are from {country}\")\n",
    "\n",
    "greet(\"ABC\")\n",
    "greet(\"XYZ\", \"Afghanistan\")\n",
    "greet(\"ALI\")"
   ]
  },
  {
   "cell_type": "code",
   "execution_count": 29,
   "id": "8da21f93-6770-4916-b02b-46465198d1ae",
   "metadata": {},
   "outputs": [
    {
     "name": "stdout",
     "output_type": "stream",
     "text": [
      "Ali your salary was 40000\n",
      "You got 60000\n"
     ]
    }
   ],
   "source": [
    "def bonus(name, salary):\n",
    "    print(f\"{name} your salary was {salary}\")\n",
    "    print(f\"You got {salary + 20000}\")\n",
    "\n",
    "bonus(name = \"Ali\", salary = 40000)\n",
    "# bonus(\"ABC\", 50000)\n",
    "# name = input(\"Whats your name: \")\n",
    "# salary = int(input(\"Salary?? : \"))\n",
    "\n",
    "# bonus(name, salary)"
   ]
  },
  {
   "cell_type": "code",
   "execution_count": 109,
   "id": "6c2a2faa-6d59-461a-b135-6f7d8329df6f",
   "metadata": {},
   "outputs": [
    {
     "name": "stdout",
     "output_type": "stream",
     "text": [
      "s\n"
     ]
    }
   ],
   "source": [
    "names = [\"Amjad\", \"Arshad\", \"Nafy\", \"Nafy\", \"Nafy\", 45, 8.9, \"Nafy\"]\n",
    "print(names[1][2])\n",
    "# print(names[1])\n",
    "# for i in names:\n",
    "#     print(i)\n",
    "# print(names[:4])\n",
    "# names[2] = \"Waheed\"\n",
    "# print(len(names))\n",
    "# print(type(names))\n",
    "# new = [456]\n",
    "# names = names + new\n",
    "# names.append(123)\n",
    "# names.insert(2, \"NEW\")\n",
    "# print(names.index(\"Arshad\"))\n",
    "# print(names.count(\"Nafy\"))\n",
    "# names.pop(1)\n",
    "# names.remove(\"Arshad\")\n",
    "# print(names.count(\"Nafy\"))\\\n",
    "for i in range(names.count(\"Nafy\")):\n",
    "    names.remove(\"Nafy\")\n",
    "\n",
    "# print(names, len(names))\n",
    "\n"
   ]
  },
  {
   "cell_type": "code",
   "execution_count": 93,
   "id": "b30d610e-d1bc-4411-ab21-1a4382215d33",
   "metadata": {},
   "outputs": [
    {
     "name": "stdin",
     "output_type": "stream",
     "text": [
      "What:  5\n",
      "What:  6\n",
      "What:  7\n",
      "What:  8\n",
      "What:  9\n"
     ]
    },
    {
     "name": "stdout",
     "output_type": "stream",
     "text": [
      "[1, 2, 3, 4, '5', '6', '7', '8', '9']\n"
     ]
    }
   ],
   "source": [
    "# data = [1, 2, 3, 4]\n",
    "data = []\n",
    "\n",
    "for i in range(5):\n",
    "    data.append(input(\"What: \"))\n",
    "\n",
    "print(data)"
   ]
  },
  {
   "cell_type": "code",
   "execution_count": 23,
   "id": "c2f65c7c-f952-47b5-b10a-2285d24ae974",
   "metadata": {},
   "outputs": [
    {
     "name": "stdout",
     "output_type": "stream",
     "text": [
      "2\n"
     ]
    }
   ],
   "source": [
    "marks = [ [10, 25, 30] , [30, 25, 41] ]\n",
    "\n",
    "# # marks[0][1]\n",
    "\n",
    "# marks = [10, 2, 41]\n",
    "# marks.append([65, 70])\n",
    "\n",
    "print(len(marks))"
   ]
  },
  {
   "cell_type": "code",
   "execution_count": 115,
   "id": "c9529b4f-4893-4c0a-9b2e-36986b133641",
   "metadata": {},
   "outputs": [
    {
     "name": "stdout",
     "output_type": "stream",
     "text": [
      "12\n"
     ]
    }
   ],
   "source": [
    "print(12, 25, )"
   ]
  },
  {
   "cell_type": "code",
   "execution_count": 123,
   "id": "977db543-9ac5-445b-b02d-b39a61fa74be",
   "metadata": {},
   "outputs": [
    {
     "name": "stdout",
     "output_type": "stream",
     "text": [
      "Your youngest child name is  Shaffan\n"
     ]
    }
   ],
   "source": [
    "def family(*kid):\n",
    "    print(\"Your youngest child name is \", kid[-1])\n",
    "\n",
    "family(\"Anas\", \"Shewar\", \"Shaffan\")"
   ]
  },
  {
   "cell_type": "code",
   "execution_count": 43,
   "id": "0fe1d75c-1bb8-4575-9dc9-4d71f5089919",
   "metadata": {},
   "outputs": [
    {
     "name": "stdout",
     "output_type": "stream",
     "text": [
      "('Amjad', 'Waheed', 'Kamran', 'Arshad')\n",
      "('Amjad', 'Waheed', 'Kamran', 'Arshad')\n"
     ]
    }
   ],
   "source": [
    "names = (\"Amjad\", \"Arshad\", \"Kamran\", \"Arshad\")\n",
    "# ali = tuple((\"Ali\",))\n",
    "# # ali = tuple(123)\n",
    "# names = names + ali\n",
    "# a = int(5)\n",
    "names = list(names)\n",
    "names[1] = \"Waheed\"\n",
    "names = tuple(names)\n",
    "print(names)\n",
    "# print(type(ali))\n",
    "# print(names[1])\n",
    "# for i in names:\n",
    "#     print(i)\n",
    "# print(type(names))\n",
    "# print(len(names))\n",
    "# names[1] = \"Abc\"\n",
    "# print(names.count(\"Arshad\"))\n",
    "# print(names.index(\"Arshad\"))\n",
    "print(names)"
   ]
  },
  {
   "cell_type": "code",
   "execution_count": 59,
   "id": "b18f2d3d-ed6b-4258-8a65-09256773e677",
   "metadata": {},
   "outputs": [
    {
     "name": "stdout",
     "output_type": "stream",
     "text": [
      "{'Arshad', 'Amjad', 'Kamran', 'Waheed', 12}\n"
     ]
    }
   ],
   "source": [
    "names = {'Amjad', 'Waheed', 'Kamran', 'Arshad', 12, 2.5}\n",
    "\n",
    "# print(type(names))\n",
    "# # print(names)\n",
    "# for i in names:\n",
    "#     print(i)\n",
    "# names['Waheed'] = 123\n",
    "# names.add(456)\n",
    "# names.remove(2.5)\n",
    "\n",
    "print(names)"
   ]
  },
  {
   "cell_type": "code",
   "execution_count": 63,
   "id": "c86bda54-4e21-4c49-a86d-a2c44eb93740",
   "metadata": {},
   "outputs": [
    {
     "name": "stdout",
     "output_type": "stream",
     "text": [
      "4\n"
     ]
    }
   ],
   "source": [
    "dept = [\"AI\", \"Maths\", \"Botany\", \"AI\", \"Maths\", \"SE\", \"SE\"]\n",
    "\n",
    "dept = set(dept)\n",
    "print(len(dept))"
   ]
  },
  {
   "cell_type": "code",
   "execution_count": 19,
   "id": "b9c0d27f-b144-48f5-bb1f-06bed203565c",
   "metadata": {},
   "outputs": [
    {
     "name": "stdout",
     "output_type": "stream",
     "text": [
      "{1: ['Abc', 'DEF', 5, 40, 50, 60], 2: ['XYZ', 'DEF', 7, 23, 15, 36]}\n",
      "Not found\n"
     ]
    }
   ],
   "source": [
    "# contacts = [\"Arshad\", 0321, 0345, \"Kamran\", 0312, 0345]\n",
    "# contacts = {\"Arshad\":[\"0312\", \"0345\"], \"Kamran\": \"0312\"}\n",
    "data = {1:[\"Abc\", \"DEF\", 5, 40, 50, 60],\n",
    "        2:[\"XYZ\", \"DEF\", 7, 23, 15, 36]}\n",
    "\n",
    "\n",
    "# print(contacts[\"Arshad\"])\n",
    "# print(data[2])\n",
    "# data[3] = \"Kamran\"\n",
    "\n",
    "# print(data)\n",
    "\n",
    "# data[3] = \"Asad\"\n",
    "\n",
    "print(data)\n",
    "print(data.get(7, \"Not found\"))\n"
   ]
  },
  {
   "cell_type": "code",
   "execution_count": 111,
   "id": "afe868ef-b228-44f1-83a9-3d9f97379701",
   "metadata": {},
   "outputs": [
    {
     "name": "stdout",
     "output_type": "stream",
     "text": [
      "3\n",
      "dict_keys([1, 2, 3])\n",
      "dict_values([['Abc', 'DEF', 5, 40, 50, 60], ['XYZ', 'DEF', 7, 23, 15, 36], 'Asad'])\n",
      "dict_items([(1, ['Abc', 'DEF', 5, 40, 50, 60]), (2, ['XYZ', 'DEF', 7, 23, 15, 36]), (3, 'Asad')])\n"
     ]
    }
   ],
   "source": [
    "print(len(data))\n",
    "print(data.keys())\n",
    "print(data.values())\n",
    "print(data.items())\n"
   ]
  },
  {
   "cell_type": "code",
   "execution_count": 123,
   "id": "c5fa8f86-51d3-4579-b24a-ce1d90ff7f4b",
   "metadata": {},
   "outputs": [
    {
     "name": "stdout",
     "output_type": "stream",
     "text": [
      "{2: ['XYZ', 'DEF', 7, 23, 15, 36]}\n"
     ]
    }
   ],
   "source": [
    "# for i in data.keys():\n",
    "#     print(i)\n",
    "# for i in data.values():\n",
    "#     print(i)\n",
    "\n",
    "# for i, j in data.items():\n",
    "#     print(i, j)\n",
    "\n",
    "data.pop(1)\n",
    "# data.popitem(['Abc', 'DEF', 5, 40, 50, 60])\n",
    "print(data)\n",
    "\n"
   ]
  },
  {
   "cell_type": "code",
   "execution_count": 133,
   "id": "052025e4-a73e-441a-abc6-c50441bccc62",
   "metadata": {},
   "outputs": [
    {
     "name": "stdout",
     "output_type": "stream",
     "text": [
      "[1, 2, 3]\n",
      "<class 'list'>\n"
     ]
    },
    {
     "data": {
      "text/plain": [
       "[1, 2, 3, 4]"
      ]
     },
     "execution_count": 133,
     "metadata": {},
     "output_type": "execute_result"
    }
   ],
   "source": [
    "name = \"Amjad\"\n",
    "nums = list([1, 2, 3])\n",
    "\n",
    "\n",
    "\n",
    "# print(name)\n",
    "# print(type(name))\n",
    "\n",
    "\n",
    "print(nums)\n",
    "print(type(nums))\n",
    "\n",
    "# name.append(\" Aziz\")\n",
    "nums.append(4)\n",
    "nums"
   ]
  },
  {
   "cell_type": "code",
   "execution_count": 25,
   "id": "c7749369-34dd-480c-b66d-032fb5e652fa",
   "metadata": {},
   "outputs": [
    {
     "name": "stdout",
     "output_type": "stream",
     "text": [
      "Ab menu chalegi\n"
     ]
    }
   ],
   "source": [
    "class Atm:\n",
    "    def __init__(self):\n",
    "        self.pin = \"\"\n",
    "        self.balance = 0\n",
    "        print(\"Ab menu chalegi\")\n",
    "\n",
    "    def menu(self):\n",
    "        pass\n",
    "\n",
    "\n",
    "\n",
    "kamran = Atm()"
   ]
  },
  {
   "cell_type": "code",
   "execution_count": 29,
   "id": "31bb12eb-d5b5-4c9f-9bff-839cc528dea4",
   "metadata": {},
   "outputs": [
    {
     "data": {
      "text/plain": [
       "''"
      ]
     },
     "execution_count": 29,
     "metadata": {},
     "output_type": "execute_result"
    }
   ],
   "source": [
    "kamran.pin"
   ]
  },
  {
   "cell_type": "markdown",
   "id": "bc6eea60-af7e-4fef-bf03-59b91eb49b83",
   "metadata": {},
   "source": [
    "### List Comprehension and Lambda Functions"
   ]
  },
  {
   "cell_type": "code",
   "execution_count": 3,
   "id": "d05fe794-811a-4e87-af2d-0df1133833db",
   "metadata": {},
   "outputs": [
    {
     "name": "stdin",
     "output_type": "stream",
     "text": [
      "\n",
      "        Press 1 for Create Pin: \n",
      "        Press 2 Check Balance: \n",
      "        Press 3 Withdraw\n",
      "        Press 4 for Change Pin\n",
      "        -----------------------\n",
      "        Any other key to exit\n",
      "         1\n",
      "Give me your pin 1234\n",
      "Give me your balance 150000\n"
     ]
    },
    {
     "name": "stdout",
     "output_type": "stream",
     "text": [
      "Bhai apka pin aur balance wala kam hogya\n"
     ]
    },
    {
     "name": "stdin",
     "output_type": "stream",
     "text": [
      "\n",
      "        Press 1 for Create Pin: \n",
      "        Press 2 Check Balance: \n",
      "        Press 3 Withdraw\n",
      "        Press 4 for Change Pin\n",
      "        -----------------------\n",
      "        Any other key to exit\n",
      "         3\n",
      "Please give me your pin to proceed:  0000\n"
     ]
    },
    {
     "name": "stdout",
     "output_type": "stream",
     "text": [
      "Chor Aadmi, Chori krte ho???\n"
     ]
    },
    {
     "name": "stdin",
     "output_type": "stream",
     "text": [
      "\n",
      "        Press 1 for Create Pin: \n",
      "        Press 2 Check Balance: \n",
      "        Press 3 Withdraw\n",
      "        Press 4 for Change Pin\n",
      "        -----------------------\n",
      "        Any other key to exit\n",
      "         3\n",
      "Please give me your pin to proceed:  1234\n",
      "How much do you want to withdraw:  1000000\n"
     ]
    },
    {
     "name": "stdout",
     "output_type": "stream",
     "text": [
      "Chal be Gharib\n"
     ]
    },
    {
     "name": "stdin",
     "output_type": "stream",
     "text": [
      "\n",
      "        Press 1 for Create Pin: \n",
      "        Press 2 Check Balance: \n",
      "        Press 3 Withdraw\n",
      "        Press 4 for Change Pin\n",
      "        -----------------------\n",
      "        Any other key to exit\n",
      "         3\n",
      "Please give me your pin to proceed:  1234\n",
      "How much do you want to withdraw:  10000\n"
     ]
    },
    {
     "name": "stdout",
     "output_type": "stream",
     "text": [
      "\n",
      "\n",
      "*****Yeh lo 10000*****\n",
      "\n",
      "\n",
      "Your balance is now 140000\n",
      "\n"
     ]
    }
   ],
   "source": [
    "class Atm:\n",
    "    def __init__(self):\n",
    "        self.pin = \"\"\n",
    "        self.balance = 0\n",
    "        self.menu()\n",
    "\n",
    "    def menu(self):\n",
    "        user_input = input(\"\"\"\n",
    "        Press 1 for Create Pin: \n",
    "        Press 2 Check Balance: \n",
    "        Press 3 Withdraw\n",
    "        Press 4 for Change Pin\n",
    "        -----------------------\n",
    "        Any other key to exit\n",
    "        \"\"\")\n",
    "        \n",
    "        if user_input == \"1\":\n",
    "            self.CreatePin()\n",
    "        elif user_input == \"2\":\n",
    "            self.CheckBalance()\n",
    "        elif user_input == \"3\":\n",
    "            self.Withdraw()\n",
    "        elif user_input == \"4\":\n",
    "            self.ChangePin()\n",
    "        else:\n",
    "            exit()\n",
    "    \n",
    "    def CreatePin(self):\n",
    "        user_pin = input(\"Give me your pin\")\n",
    "        self.pin = user_pin\n",
    "        \n",
    "        user_balance = int(input(\"Give me your balance\"))\n",
    "        self.balance = user_balance\n",
    "        \n",
    "        print(\"Bhai apka pin aur balance wala kam hogya\")\n",
    "        self.menu()\n",
    "        \n",
    "    def ChangePin(self):\n",
    "        old_pin = input(\"Enter your old pin: \")\n",
    "        if old_pin == self.pin:\n",
    "            new_pin = input(\"Give me your new Pin: \")\n",
    "            self.pin = new_pin\n",
    "            print(\"Your pin has been updated successfully\")\n",
    "            self.menu()\n",
    "            \n",
    "        else:\n",
    "            print(\"Bhaag Yaha se\\n\\n\")\n",
    "            self.menu()\n",
    "\n",
    "    def Withdraw(self):\n",
    "        user_pin = input(\"Please give me your pin to proceed: \")\n",
    "        if user_pin == self.pin:\n",
    "            amount = int(input(\"How much do you want to withdraw: \"))\n",
    "            if amount <= self.balance:\n",
    "                print(f\"\\n\\n*****Yeh lo {amount}*****\\n\\n\")\n",
    "                self.balance -= amount\n",
    "                print(f\"Your balance is now {self.balance}\\n\")\n",
    "            else:\n",
    "                print(\"Chal be Gharib\")\n",
    "                self.menu()\n",
    "                \n",
    "        else:\n",
    "            print(\"Chor Aadmi, Chori krte ho???\")\n",
    "            self.menu()\n",
    "            \n",
    "    def CheckBalance(self):\n",
    "        user_pin = input(\"Please give me your pin to proceed: \")\n",
    "        if user_pin == self.pin:\n",
    "            print(f\"Your balance is {self.balance}\")\n",
    "            self.menu()\n",
    "        else:\n",
    "            print(\"Nahi Dekha skta meri Majboori he\")\n",
    "            self.menu()\n",
    "\n",
    "\n",
    "\n",
    "kamran = Atm()"
   ]
  }
 ],
 "metadata": {
  "kernelspec": {
   "display_name": "Python [conda env:base] *",
   "language": "python",
   "name": "conda-base-py"
  },
  "language_info": {
   "codemirror_mode": {
    "name": "ipython",
    "version": 3
   },
   "file_extension": ".py",
   "mimetype": "text/x-python",
   "name": "python",
   "nbconvert_exporter": "python",
   "pygments_lexer": "ipython3",
   "version": "3.12.7"
  }
 },
 "nbformat": 4,
 "nbformat_minor": 5
}
